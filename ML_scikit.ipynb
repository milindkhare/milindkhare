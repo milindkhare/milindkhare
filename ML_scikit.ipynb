{
  "nbformat": 4,
  "nbformat_minor": 0,
  "metadata": {
    "colab": {
      "name": "ML-scikit.ipynb",
      "provenance": [],
      "collapsed_sections": [],
      "toc_visible": true,
      "authorship_tag": "ABX9TyM6MMrudUytMpbMxnBTyj6I",
      "include_colab_link": true
    },
    "kernelspec": {
      "name": "python3",
      "display_name": "Python 3"
    },
    "language_info": {
      "name": "python"
    }
  },
  "cells": [
    {
      "cell_type": "markdown",
      "metadata": {
        "id": "view-in-github",
        "colab_type": "text"
      },
      "source": [
        "<a href=\"https://colab.research.google.com/github/milindkhare/milindkhare/blob/Pypractice/ML_scikit.ipynb\" target=\"_parent\"><img src=\"https://colab.research.google.com/assets/colab-badge.svg\" alt=\"Open In Colab\"/></a>"
      ]
    },
    {
      "cell_type": "markdown",
      "metadata": {
        "id": "131YwD2EI2yL"
      },
      "source": [
        "# Data extraction\n",
        "---\n",
        "\n"
      ]
    },
    {
      "cell_type": "code",
      "metadata": {
        "colab": {
          "base_uri": "https://localhost:8080/",
          "height": 242
        },
        "id": "th2oCM4ZIyrl",
        "outputId": "61dd6610-5886-40d0-ab12-e9e5ec1c55d6"
      },
      "source": [
        "import pandas as pd\n",
        "\n",
        "# Breast cancer data\n",
        "cancer_set = pd.read_csv('https://archive.ics.uci.edu/ml/machine-learning-databases/breast-cancer-wisconsin/wdbc.data', \n",
        "                        header = None)\n",
        "print(cancer_set.shape)\n",
        "cancer_set.head()"
      ],
      "execution_count": 2,
      "outputs": [
        {
          "output_type": "stream",
          "name": "stdout",
          "text": [
            "(569, 32)\n"
          ]
        },
        {
          "output_type": "execute_result",
          "data": {
            "text/html": [
              "<div>\n",
              "<style scoped>\n",
              "    .dataframe tbody tr th:only-of-type {\n",
              "        vertical-align: middle;\n",
              "    }\n",
              "\n",
              "    .dataframe tbody tr th {\n",
              "        vertical-align: top;\n",
              "    }\n",
              "\n",
              "    .dataframe thead th {\n",
              "        text-align: right;\n",
              "    }\n",
              "</style>\n",
              "<table border=\"1\" class=\"dataframe\">\n",
              "  <thead>\n",
              "    <tr style=\"text-align: right;\">\n",
              "      <th></th>\n",
              "      <th>0</th>\n",
              "      <th>1</th>\n",
              "      <th>2</th>\n",
              "      <th>3</th>\n",
              "      <th>4</th>\n",
              "      <th>5</th>\n",
              "      <th>6</th>\n",
              "      <th>7</th>\n",
              "      <th>8</th>\n",
              "      <th>9</th>\n",
              "      <th>10</th>\n",
              "      <th>11</th>\n",
              "      <th>12</th>\n",
              "      <th>13</th>\n",
              "      <th>14</th>\n",
              "      <th>15</th>\n",
              "      <th>16</th>\n",
              "      <th>17</th>\n",
              "      <th>18</th>\n",
              "      <th>19</th>\n",
              "      <th>20</th>\n",
              "      <th>21</th>\n",
              "      <th>22</th>\n",
              "      <th>23</th>\n",
              "      <th>24</th>\n",
              "      <th>25</th>\n",
              "      <th>26</th>\n",
              "      <th>27</th>\n",
              "      <th>28</th>\n",
              "      <th>29</th>\n",
              "      <th>30</th>\n",
              "      <th>31</th>\n",
              "    </tr>\n",
              "  </thead>\n",
              "  <tbody>\n",
              "    <tr>\n",
              "      <th>0</th>\n",
              "      <td>842302</td>\n",
              "      <td>M</td>\n",
              "      <td>17.99</td>\n",
              "      <td>10.38</td>\n",
              "      <td>122.80</td>\n",
              "      <td>1001.0</td>\n",
              "      <td>0.11840</td>\n",
              "      <td>0.27760</td>\n",
              "      <td>0.3001</td>\n",
              "      <td>0.14710</td>\n",
              "      <td>0.2419</td>\n",
              "      <td>0.07871</td>\n",
              "      <td>1.0950</td>\n",
              "      <td>0.9053</td>\n",
              "      <td>8.589</td>\n",
              "      <td>153.40</td>\n",
              "      <td>0.006399</td>\n",
              "      <td>0.04904</td>\n",
              "      <td>0.05373</td>\n",
              "      <td>0.01587</td>\n",
              "      <td>0.03003</td>\n",
              "      <td>0.006193</td>\n",
              "      <td>25.38</td>\n",
              "      <td>17.33</td>\n",
              "      <td>184.60</td>\n",
              "      <td>2019.0</td>\n",
              "      <td>0.1622</td>\n",
              "      <td>0.6656</td>\n",
              "      <td>0.7119</td>\n",
              "      <td>0.2654</td>\n",
              "      <td>0.4601</td>\n",
              "      <td>0.11890</td>\n",
              "    </tr>\n",
              "    <tr>\n",
              "      <th>1</th>\n",
              "      <td>842517</td>\n",
              "      <td>M</td>\n",
              "      <td>20.57</td>\n",
              "      <td>17.77</td>\n",
              "      <td>132.90</td>\n",
              "      <td>1326.0</td>\n",
              "      <td>0.08474</td>\n",
              "      <td>0.07864</td>\n",
              "      <td>0.0869</td>\n",
              "      <td>0.07017</td>\n",
              "      <td>0.1812</td>\n",
              "      <td>0.05667</td>\n",
              "      <td>0.5435</td>\n",
              "      <td>0.7339</td>\n",
              "      <td>3.398</td>\n",
              "      <td>74.08</td>\n",
              "      <td>0.005225</td>\n",
              "      <td>0.01308</td>\n",
              "      <td>0.01860</td>\n",
              "      <td>0.01340</td>\n",
              "      <td>0.01389</td>\n",
              "      <td>0.003532</td>\n",
              "      <td>24.99</td>\n",
              "      <td>23.41</td>\n",
              "      <td>158.80</td>\n",
              "      <td>1956.0</td>\n",
              "      <td>0.1238</td>\n",
              "      <td>0.1866</td>\n",
              "      <td>0.2416</td>\n",
              "      <td>0.1860</td>\n",
              "      <td>0.2750</td>\n",
              "      <td>0.08902</td>\n",
              "    </tr>\n",
              "    <tr>\n",
              "      <th>2</th>\n",
              "      <td>84300903</td>\n",
              "      <td>M</td>\n",
              "      <td>19.69</td>\n",
              "      <td>21.25</td>\n",
              "      <td>130.00</td>\n",
              "      <td>1203.0</td>\n",
              "      <td>0.10960</td>\n",
              "      <td>0.15990</td>\n",
              "      <td>0.1974</td>\n",
              "      <td>0.12790</td>\n",
              "      <td>0.2069</td>\n",
              "      <td>0.05999</td>\n",
              "      <td>0.7456</td>\n",
              "      <td>0.7869</td>\n",
              "      <td>4.585</td>\n",
              "      <td>94.03</td>\n",
              "      <td>0.006150</td>\n",
              "      <td>0.04006</td>\n",
              "      <td>0.03832</td>\n",
              "      <td>0.02058</td>\n",
              "      <td>0.02250</td>\n",
              "      <td>0.004571</td>\n",
              "      <td>23.57</td>\n",
              "      <td>25.53</td>\n",
              "      <td>152.50</td>\n",
              "      <td>1709.0</td>\n",
              "      <td>0.1444</td>\n",
              "      <td>0.4245</td>\n",
              "      <td>0.4504</td>\n",
              "      <td>0.2430</td>\n",
              "      <td>0.3613</td>\n",
              "      <td>0.08758</td>\n",
              "    </tr>\n",
              "    <tr>\n",
              "      <th>3</th>\n",
              "      <td>84348301</td>\n",
              "      <td>M</td>\n",
              "      <td>11.42</td>\n",
              "      <td>20.38</td>\n",
              "      <td>77.58</td>\n",
              "      <td>386.1</td>\n",
              "      <td>0.14250</td>\n",
              "      <td>0.28390</td>\n",
              "      <td>0.2414</td>\n",
              "      <td>0.10520</td>\n",
              "      <td>0.2597</td>\n",
              "      <td>0.09744</td>\n",
              "      <td>0.4956</td>\n",
              "      <td>1.1560</td>\n",
              "      <td>3.445</td>\n",
              "      <td>27.23</td>\n",
              "      <td>0.009110</td>\n",
              "      <td>0.07458</td>\n",
              "      <td>0.05661</td>\n",
              "      <td>0.01867</td>\n",
              "      <td>0.05963</td>\n",
              "      <td>0.009208</td>\n",
              "      <td>14.91</td>\n",
              "      <td>26.50</td>\n",
              "      <td>98.87</td>\n",
              "      <td>567.7</td>\n",
              "      <td>0.2098</td>\n",
              "      <td>0.8663</td>\n",
              "      <td>0.6869</td>\n",
              "      <td>0.2575</td>\n",
              "      <td>0.6638</td>\n",
              "      <td>0.17300</td>\n",
              "    </tr>\n",
              "    <tr>\n",
              "      <th>4</th>\n",
              "      <td>84358402</td>\n",
              "      <td>M</td>\n",
              "      <td>20.29</td>\n",
              "      <td>14.34</td>\n",
              "      <td>135.10</td>\n",
              "      <td>1297.0</td>\n",
              "      <td>0.10030</td>\n",
              "      <td>0.13280</td>\n",
              "      <td>0.1980</td>\n",
              "      <td>0.10430</td>\n",
              "      <td>0.1809</td>\n",
              "      <td>0.05883</td>\n",
              "      <td>0.7572</td>\n",
              "      <td>0.7813</td>\n",
              "      <td>5.438</td>\n",
              "      <td>94.44</td>\n",
              "      <td>0.011490</td>\n",
              "      <td>0.02461</td>\n",
              "      <td>0.05688</td>\n",
              "      <td>0.01885</td>\n",
              "      <td>0.01756</td>\n",
              "      <td>0.005115</td>\n",
              "      <td>22.54</td>\n",
              "      <td>16.67</td>\n",
              "      <td>152.20</td>\n",
              "      <td>1575.0</td>\n",
              "      <td>0.1374</td>\n",
              "      <td>0.2050</td>\n",
              "      <td>0.4000</td>\n",
              "      <td>0.1625</td>\n",
              "      <td>0.2364</td>\n",
              "      <td>0.07678</td>\n",
              "    </tr>\n",
              "  </tbody>\n",
              "</table>\n",
              "</div>"
            ],
            "text/plain": [
              "         0  1      2      3       4   ...      27      28      29      30       31\n",
              "0    842302  M  17.99  10.38  122.80  ...  0.6656  0.7119  0.2654  0.4601  0.11890\n",
              "1    842517  M  20.57  17.77  132.90  ...  0.1866  0.2416  0.1860  0.2750  0.08902\n",
              "2  84300903  M  19.69  21.25  130.00  ...  0.4245  0.4504  0.2430  0.3613  0.08758\n",
              "3  84348301  M  11.42  20.38   77.58  ...  0.8663  0.6869  0.2575  0.6638  0.17300\n",
              "4  84358402  M  20.29  14.34  135.10  ...  0.2050  0.4000  0.1625  0.2364  0.07678\n",
              "\n",
              "[5 rows x 32 columns]"
            ]
          },
          "metadata": {},
          "execution_count": 2
        }
      ]
    },
    {
      "cell_type": "code",
      "metadata": {
        "colab": {
          "base_uri": "https://localhost:8080/"
        },
        "id": "oNu0ZAusJs5o",
        "outputId": "7b23aff0-812d-442b-8d3f-9c8f9c8c158b"
      },
      "source": [
        "# Feature extraction\n",
        "# First is id and second is tumor type, rest are features\n",
        "cancer_features = cancer_set.iloc[:,2:] # all rows, all cols after 2\n",
        "\n",
        "print(cancer_features.shape)\n",
        "print(type(cancer_features))\n",
        "\n",
        "#cancer_features is a dataframe. It is converted to a numpy array with below code\n",
        "cancer_features = cancer_features.values\n",
        "print(type(cancer_features))\n",
        "print(cancer_features.shape)"
      ],
      "execution_count": 8,
      "outputs": [
        {
          "output_type": "stream",
          "name": "stdout",
          "text": [
            "(569, 30)\n",
            "<class 'pandas.core.frame.DataFrame'>\n",
            "<class 'numpy.ndarray'>\n",
            "(569, 30)\n"
          ]
        }
      ]
    },
    {
      "cell_type": "code",
      "metadata": {
        "id": "wpjbbru2KXaH"
      },
      "source": [
        "#cancer_features[1]\n",
        "# put up the column headers\n",
        "cancer_features_names = ['mean radius', \n",
        "'mean texture', 'mean perimeter', \n",
        "'mean area', 'mean smoothness', \n",
        "'mean compactness', 'mean concavity',\n",
        "'mean concave points', 'mean symmetry',\n",
        "'mean fractal dimension','radius error',\n",
        "'texture error','perimeter error',\n",
        "'area error', 'smoothness error',\n",
        "'compactness error','concavity error',\n",
        "'concave points error','symmetry error',\n",
        "'fractal dimension error','worst radius',\n",
        "'worst texture', 'worst perimeter', \n",
        "'worst area','worst smoothness', \n",
        "'worst compactness', 'worst concavity',\n",
        "'worst concave points','worst symmetry',\n",
        "'worst fractal dimension']"
      ],
      "execution_count": 9,
      "outputs": []
    },
    {
      "cell_type": "code",
      "metadata": {
        "colab": {
          "base_uri": "https://localhost:8080/"
        },
        "id": "SnLGIdRZ528l",
        "outputId": "3d9ca823-c18e-424c-9438-1a6e34c66bee"
      },
      "source": [
        "# Set target variable\n",
        "cancer_target = cancer_set.iloc[:,1]\n",
        "\n",
        "#Replacing factor with binary 0,1\n",
        "cancer_target = cancer_target.replace(['M', 'B'], [0,1])\n",
        "cancer_target = cancer_target.values\n",
        "\n",
        "print(cancer_target.shape)"
      ],
      "execution_count": 10,
      "outputs": [
        {
          "output_type": "stream",
          "name": "stdout",
          "text": [
            "(569,)\n"
          ]
        }
      ]
    },
    {
      "cell_type": "markdown",
      "metadata": {
        "id": "P2JlaW8S6_ww"
      },
      "source": [
        "Fetching same with inbuilt dataset of Scikit learn\n",
        "\n",
        "import sklearn.datasets as datasets\n",
        "cancer = datasets.load_breast_cancer()\n",
        "print(cancer.data.shape)\n",
        "print(cancer.target.shape)"
      ]
    },
    {
      "cell_type": "code",
      "metadata": {
        "colab": {
          "base_uri": "https://localhost:8080/"
        },
        "id": "KWSqAzTQ8fkA",
        "outputId": "22704d9c-35d1-496c-a183-4c89798c5f73"
      },
      "source": [
        "import sklearn.datasets as datasets\n",
        "#cancer = datasets.load_breast_cancer()\n",
        "iris = datasets.load_iris()\n",
        "print(type(iris))\n",
        "#iris.data"
      ],
      "execution_count": 3,
      "outputs": [
        {
          "output_type": "stream",
          "name": "stdout",
          "text": [
            "<class 'sklearn.utils.Bunch'>\n"
          ]
        }
      ]
    },
    {
      "cell_type": "markdown",
      "metadata": {
        "id": "CXBddEJsPvqC"
      },
      "source": [
        "# Preprocessing"
      ]
    },
    {
      "cell_type": "markdown",
      "metadata": {
        "id": "w0407rishth8"
      },
      "source": [
        "Standardization"
      ]
    },
    {
      "cell_type": "code",
      "metadata": {
        "id": "odasvGMRhsts"
      },
      "source": [
        "import sklearn.preprocessing as preprocessing\n",
        "\n",
        "#standardizer = preprocessing.StandardScaler()\n",
        "#standardizer = standardizer.fit(breast_cancer.data)\n",
        "#breast_cancer_standardized = standardizer.transform(breast_cancer.data)\n",
        "\n",
        "# print('Mean of each feature after Standardization :\\n\\n')\n",
        "# print(breast_cancer_standardized.mean(axis=0))\n",
        "# print('\\nStd. of each feature after Standardization :\\n\\n')\n",
        "# print(breast_cancer_standardized.std(axis=0))"
      ],
      "execution_count": 4,
      "outputs": []
    },
    {
      "cell_type": "code",
      "metadata": {
        "colab": {
          "base_uri": "https://localhost:8080/"
        },
        "id": "xbir5YQVjeOy",
        "outputId": "4d7358c7-13c6-499c-e683-0578e73b9b2f"
      },
      "source": [
        "standardizer = preprocessing.StandardScaler()\n",
        "#print(cancer_features)\n",
        "cancer_features_std = standardizer.fit_transform(cancer_features)\n",
        "\n",
        "print(cancer_features_std.shape)\n",
        "print(cancer_features_std.mean(axis=0))\n",
        "print(cancer_features_std.std(axis=0))"
      ],
      "execution_count": 13,
      "outputs": [
        {
          "output_type": "stream",
          "name": "stdout",
          "text": [
            "(569, 30)\n",
            "[-1.37363271e-16  6.86816353e-17 -1.24875700e-16 -2.18532476e-16\n",
            "  1.74825981e-16  1.99801121e-16  3.74627101e-17 -3.74627101e-17\n",
            "  1.87313551e-16  4.52674414e-16  2.49751401e-16 -1.03022453e-16\n",
            " -3.49651961e-16 -1.31119486e-16  4.40186844e-16  1.81069766e-16\n",
            "  1.62338411e-16  1.24875700e-17  8.11692053e-17  6.24378502e-18\n",
            " -8.24179623e-16  1.24875700e-17 -3.74627101e-16  0.00000000e+00\n",
            " -2.37263831e-16 -3.37164391e-16  7.49254203e-17  2.24776261e-16\n",
            "  2.74726541e-16  2.12288691e-16]\n",
            "[1. 1. 1. 1. 1. 1. 1. 1. 1. 1. 1. 1. 1. 1. 1. 1. 1. 1. 1. 1. 1. 1. 1. 1.\n",
            " 1. 1. 1. 1. 1. 1.]\n"
          ]
        }
      ]
    },
    {
      "cell_type": "code",
      "metadata": {
        "colab": {
          "base_uri": "https://localhost:8080/"
        },
        "id": "7H2QbHP_nx9a",
        "outputId": "6988c411-6053-4c11-e2cc-0aa272f4dac0"
      },
      "source": [
        "# Scaling transforms existing data values to lie between a minimum and maximum value.\n",
        "# MinMaxScaler transforms data to range 0 and 1.\n",
        "# MaxAbsScaler transforms data to range -1 and 1.\n",
        "\n",
        "#breast_cancer_minmaxscaled = preprocessing.MinMaxScaler().fit_transform(cancer_features) # deafult is btw 0 n 1\n",
        "# min max with particular range\n",
        "breast_cancer_minmaxscaled = preprocessing.MinMaxScaler(feature_range=(0, 10)).fit_transform(cancer_features)\n",
        "\n",
        "breast_cancer_minmaxscaled.mean(axis=0)\n"
      ],
      "execution_count": 15,
      "outputs": [
        {
          "output_type": "execute_result",
          "data": {
            "text/plain": [
              "array([3.38221957, 3.23965117, 3.32935066, 2.16920086, 3.94784519,\n",
              "       2.60600528, 2.08058378, 2.43136908, 3.79605368, 2.70379314,\n",
              "       1.06345123, 1.89324042, 0.99376112, 0.62635794, 1.81119044,\n",
              "       1.74438511, 0.80539688, 2.23454008, 1.78143451, 1.00192912,\n",
              "       2.96662747, 3.63998486, 2.83137669, 1.70906196, 4.04137846,\n",
              "       2.20212323, 2.17402942, 3.93835819, 2.63306862, 1.89596073])"
            ]
          },
          "metadata": {},
          "execution_count": 15
        }
      ]
    },
    {
      "cell_type": "markdown",
      "metadata": {
        "id": "hqs3YwdIHwQr"
      },
      "source": [
        "Normalization\n",
        "\n",
        "  'l1' norm makes the sum of absolute values of each row as 1, and 'l2' norm makes the sum of squares of each row as 1.\n",
        "  'l1' norm is insensitive to outliers and by default l2 norm is considered. Hence, removing outliers is recommended before applying l2 norm."
      ]
    },
    {
      "cell_type": "code",
      "metadata": {
        "colab": {
          "base_uri": "https://localhost:8080/"
        },
        "id": "EimsmRwAHy9J",
        "outputId": "20bc0d7e-708f-4b85-d117-5d06f2e075c9"
      },
      "source": [
        "cancer_normalizer = preprocessing.Normalizer(norm='l1').fit_transform(cancer_features)\n",
        "cancer_normalizer1 = preprocessing.Normalizer(norm='l2').fit_transform(cancer_features)\n",
        "print(cancer_features.mean(axis=0))\n",
        "print(cancer_normalizer.mean(axis=0))\n",
        "print(cancer_normalizer1.mean(axis=0))\n",
        "#breast_cancer_normalized = normalizer.transform(breast_cancer.data)"
      ],
      "execution_count": 20,
      "outputs": [
        {
          "output_type": "stream",
          "name": "stdout",
          "text": [
            "[1.41272917e+01 1.92896485e+01 9.19690334e+01 6.54889104e+02\n",
            " 9.63602812e-02 1.04340984e-01 8.87993158e-02 4.89191459e-02\n",
            " 1.81161863e-01 6.27976098e-02 4.05172056e-01 1.21685343e+00\n",
            " 2.86605923e+00 4.03370791e+01 7.04097891e-03 2.54781388e-02\n",
            " 3.18937163e-02 1.17961371e-02 2.05422988e-02 3.79490387e-03\n",
            " 1.62691898e+01 2.56772232e+01 1.07261213e+02 8.80583128e+02\n",
            " 1.32368594e-01 2.54265044e-01 2.72188483e-01 1.14606223e-01\n",
            " 2.90075571e-01 8.39458172e-02]\n",
            "[1.48431741e-02 2.20102116e-02 9.60057252e-02 6.05084121e-01\n",
            " 1.12637599e-04 1.09920831e-04 7.93195454e-05 4.21104980e-05\n",
            " 2.12177723e-04 7.55815095e-05 3.96889256e-04 1.49250031e-03\n",
            " 2.79802882e-03 3.33160008e-02 8.95511912e-06 2.86915349e-05\n",
            " 3.55450350e-05 1.27935813e-05 2.52658404e-05 4.66426598e-06\n",
            " 1.67445961e-02 2.91619161e-02 1.09652103e-01 7.77287215e-01\n",
            " 1.54636457e-04 2.61800359e-04 2.60829513e-04 1.08304876e-04\n",
            " 3.35088957e-04 9.88076119e-05]\n"
          ]
        }
      ]
    },
    {
      "cell_type": "markdown",
      "metadata": {
        "id": "_na2SkUrKWct"
      },
      "source": [
        "Binarization\n",
        "\n",
        "based on threshold"
      ]
    },
    {
      "cell_type": "code",
      "metadata": {
        "colab": {
          "base_uri": "https://localhost:8080/"
        },
        "id": "NHTrOXPXKYza",
        "outputId": "fbd59cac-7beb-4434-9e21-343613f787f6"
      },
      "source": [
        "binarizer = preprocessing.Binarizer(threshold=3.0).fit(cancer_features)\n",
        "breast_cancer_binarized = binarizer.transform(cancer_features) # above 3 as 1 else 0\n",
        "print(breast_cancer_binarized[:5,:5])"
      ],
      "execution_count": 21,
      "outputs": [
        {
          "output_type": "stream",
          "name": "stdout",
          "text": [
            "[[1. 1. 1. 1. 0.]\n",
            " [1. 1. 1. 1. 0.]\n",
            " [1. 1. 1. 1. 0.]\n",
            " [1. 1. 1. 1. 0.]\n",
            " [1. 1. 1. 1. 0.]]\n"
          ]
        }
      ]
    },
    {
      "cell_type": "markdown",
      "metadata": {
        "id": "mkPYV3ETK-rv"
      },
      "source": [
        "One hot encoder\n",
        "numerical values to binary"
      ]
    },
    {
      "cell_type": "code",
      "metadata": {
        "colab": {
          "base_uri": "https://localhost:8080/"
        },
        "id": "YBRF7EYuLDji",
        "outputId": "20f015c1-d763-4feb-b967-1486da65b1e9"
      },
      "source": [
        "onehotencoder = preprocessing.OneHotEncoder()\n",
        "onehotencoder = onehotencoder.fit_transform([[1], [1], [1], [2], [2], [1]])\n",
        "\n",
        "# Transforming category values 1 and 2 to one-hot vectors\n",
        "print(onehotencoder)\n",
        "print(onehotencoder[[4]].toarray())"
      ],
      "execution_count": 27,
      "outputs": [
        {
          "output_type": "stream",
          "name": "stdout",
          "text": [
            "  (0, 0)\t1.0\n",
            "  (1, 0)\t1.0\n",
            "  (2, 0)\t1.0\n",
            "  (3, 1)\t1.0\n",
            "  (4, 1)\t1.0\n",
            "  (5, 0)\t1.0\n",
            "[[0. 1.]]\n"
          ]
        }
      ]
    },
    {
      "cell_type": "code",
      "metadata": {
        "colab": {
          "base_uri": "https://localhost:8080/"
        },
        "id": "FqMSpKRERq27",
        "outputId": "d2e49fec-5600-45a0-e697-c73e14f9d06e"
      },
      "source": [
        "iris_1 = iris.target.reshape(-1,1)\n",
        "print(iris.target[[0,50,100]])\n",
        "print(iris_1[50], iris_1[100])\n",
        "\n",
        "iris_target_onehot = preprocessing.OneHotEncoder().fit_transform(iris_1)\n",
        "print(iris_target_onehot.toarray()[[0,50,100]])\n"
      ],
      "execution_count": 52,
      "outputs": [
        {
          "output_type": "stream",
          "name": "stdout",
          "text": [
            "[0 1 2]\n",
            "[1] [2]\n",
            "[[1. 0. 0.]\n",
            " [0. 1. 0.]\n",
            " [0. 0. 1.]]\n"
          ]
        }
      ]
    },
    {
      "cell_type": "markdown",
      "metadata": {
        "id": "XHS2nzDQMZfK"
      },
      "source": [
        "Label encoding"
      ]
    },
    {
      "cell_type": "code",
      "metadata": {
        "colab": {
          "base_uri": "https://localhost:8080/"
        },
        "id": "3RtiFx6oMbck",
        "outputId": "3a39f0d4-2a2e-4add-fd99-607eca83a0af"
      },
      "source": [
        "labels = ['malignant', 'benign', 'malignant', 'benign']\n",
        "\n",
        "labelencoder = preprocessing.LabelEncoder()\n",
        "\n",
        "labelencoder = labelencoder.fit_transform(labels)\n",
        "print(labelencoder)\n",
        "\n",
        "#bc_labelencoded = labelencoder.transform(cancer_set.iloc[:,1])"
      ],
      "execution_count": 32,
      "outputs": [
        {
          "output_type": "stream",
          "name": "stdout",
          "text": [
            "[1 0 1 0]\n"
          ]
        }
      ]
    },
    {
      "cell_type": "markdown",
      "metadata": {
        "id": "NTHeJ2IkNfEf"
      },
      "source": [
        "Imputer"
      ]
    },
    {
      "cell_type": "code",
      "metadata": {
        "id": "AnlBud-yOdh5"
      },
      "source": [
        "imputer = preprocessing.Imputer(missing_values='NaN', strategy='mean', axis = 0)\n",
        "\n",
        "imputer = imputer.fit_transform(cancer_features)"
      ],
      "execution_count": null,
      "outputs": []
    },
    {
      "cell_type": "code",
      "metadata": {
        "id": "rLOTzVDa8IZs"
      },
      "source": [
        "##Practice\n",
        "import sklearn.preprocessing as preprocessing\n",
        "\n",
        "# regions = ['HYD', 'CHN', 'MUM', 'HYD', 'KOL', 'CHN']\n",
        "# print(preprocessing.LabelEncoder().fit(regions).transform(regions))\n",
        "\n",
        "# import sklearn.preprocessing as preprocessing\n",
        "\n",
        "# x = [[7.8], [1.3], [4.5], [0.9]]\n",
        "# print(preprocessing.Binarizer().fit(x).transform(x))\n",
        "\n",
        "# x = [[0, 0], [0, 1], [2,0]]\n",
        "# enc = preprocessing.OneHotEncoder()\n",
        "# print(enc.fit(x).transform([[1, 1]]).toarray())\n",
        "\n",
        "# imputation\n",
        "iris.data[:50] = numpy.nan\n",
        "\n",
        "print(iris.data[48:55,])\n",
        "#imputer = preprocessing.Imputation(missing_values= numpy.NaN, strategy='mean', axis = 0)\n",
        "iris_imputed = preprocessing.Imputer(missing_values='NaN', strategy='mean').fit_transform(iris.data)\n",
        "iris_imputed = imputer.fit_transform(iris.data)\n",
        "\n",
        "print(iris_imputed.mean(axis=0))"
      ],
      "execution_count": null,
      "outputs": []
    },
    {
      "cell_type": "code",
      "metadata": {
        "colab": {
          "base_uri": "https://localhost:8080/"
        },
        "id": "AiabER0KRaHq",
        "outputId": "f58d481e-0ac1-4c21-8e8c-d56ad365a4f9"
      },
      "source": [
        "iris = datasets.load_iris()\n",
        "\n",
        "norm = preprocessing.Normalizer(norm='l2')\n",
        "\n",
        "iris_normalized = norm.fit_transform(iris.data)\n",
        "print(iris_normalized.mean(axis=0))"
      ],
      "execution_count": 38,
      "outputs": [
        {
          "output_type": "stream",
          "name": "stdout",
          "text": [
            "[0.75140029 0.40517418 0.45478362 0.14107142]\n"
          ]
        }
      ]
    },
    {
      "cell_type": "markdown",
      "metadata": {
        "id": "doNgDqWx9VAd"
      },
      "source": [
        "# Nearest Neighbours"
      ]
    },
    {
      "cell_type": "markdown",
      "metadata": {
        "id": "bKTuTVp4-Ziu"
      },
      "source": [
        "There are nearest neighbour classifier and regressors in scikit learn\n",
        "which uses 2 algos - \n",
        "\n",
        "KNeighbors predicts based on the k nearest neighbors of each query point.\n",
        "\n",
        "RadiusNeighbors predicts based on the neighbors present in a fixed radius r of the query point."
      ]
    },
    {
      "cell_type": "code",
      "metadata": {
        "id": "7Y8Hft2k-T7_"
      },
      "source": [
        "import sklearn.datasets as datasets\n",
        "\n",
        "from sklearn.model_selection import train_test_split\n",
        "from sklearn.neighbors import KNeighborsClassifier\n",
        "\n",
        "cancer = datasets.load_breast_cancer()  # Loading the data set"
      ],
      "execution_count": 10,
      "outputs": []
    },
    {
      "cell_type": "code",
      "metadata": {
        "id": "f4GgRWuU-9gb"
      },
      "source": [
        "X_train, X_test, Y_train, Y_test = train_test_split(cancer.data, cancer.target,\n",
        "           stratify=cancer.target, random_state=42)\n",
        "\n",
        "knn_classifier = KNeighborsClassifier()\n",
        "knn_classifier = knn_classifier.fit(X_train, Y_train)\n",
        "\n",
        "sklearn.neighbors."
      ],
      "execution_count": 12,
      "outputs": []
    },
    {
      "cell_type": "code",
      "metadata": {
        "colab": {
          "base_uri": "https://localhost:8080/"
        },
        "id": "VbmK3MCq_ARo",
        "outputId": "07f0be41-ded6-482e-82b0-045288317016"
      },
      "source": [
        "print('Accuracy of Train Data :', knn_classifier.score(X_train,Y_train))\n",
        "print('Accuracy of Test Data :', knn_classifier.score(X_test,Y_test))"
      ],
      "execution_count": 13,
      "outputs": [
        {
          "output_type": "stream",
          "name": "stdout",
          "text": [
            "Accuracy of Train Data : 0.9460093896713615\n",
            "Accuracy of Test Data : 0.9300699300699301\n"
          ]
        }
      ]
    },
    {
      "cell_type": "markdown",
      "metadata": {
        "id": "2AvK_ENuCVJX"
      },
      "source": [
        "# Decision Tree\n",
        "\n",
        "Decision trees sometimes become complex, which do not generalize well and leads to overfitting. \n",
        "\n",
        "Overfitting can be addressed by placing the least number of samples needed at a leaf node or placing the highest depth of the tree.\n",
        "\n",
        "A small variation in data can result in a completely different tree. This problem can be addressed by using decision trees within an ensemble."
      ]
    },
    {
      "cell_type": "code",
      "metadata": {
        "colab": {
          "base_uri": "https://localhost:8080/"
        },
        "id": "LTlC_RjICbOD",
        "outputId": "6fbe1f1a-5720-4117-d4b7-085eeac28a68"
      },
      "source": [
        "from sklearn.tree import DecisionTreeClassifier\n",
        "# taking cancer train and test data only\n",
        "dt_classifier = DecisionTreeClassifier()\n",
        "dt_classifier = dt_classifier.fit(X_train, Y_train)\n",
        "\n",
        "print('Accuracy of Train Data :', dt_classifier.score(X_train,Y_train))\n",
        "print('Accuracy of Test Data :', dt_classifier.score(X_test,Y_test))\n"
      ],
      "execution_count": 17,
      "outputs": [
        {
          "output_type": "stream",
          "name": "stdout",
          "text": [
            "Accuracy of Train Data : 1.0\n",
            "Accuracy of Test Data : 0.9370629370629371\n"
          ]
        }
      ]
    },
    {
      "cell_type": "code",
      "metadata": {
        "colab": {
          "base_uri": "https://localhost:8080/"
        },
        "id": "F_xq8_dgDDWX",
        "outputId": "c2b4a03f-f504-4412-abc8-4bdee30cacb8"
      },
      "source": [
        "# tuning model to avoid overfitting\n",
        "dt_classifier = DecisionTreeClassifier(max_depth=2)   \n",
        "\n",
        "dt_classifier = dt_classifier.fit(X_train, Y_train) \n",
        "\n",
        "print('Accuracy of Train Data :', dt_classifier.score(X_train,Y_train))\n",
        "\n",
        "print('Accuracy of Test Data :', dt_classifier.score(X_test,Y_test))"
      ],
      "execution_count": 18,
      "outputs": [
        {
          "output_type": "stream",
          "name": "stdout",
          "text": [
            "Accuracy of Train Data : 0.9460093896713615\n",
            "Accuracy of Test Data : 0.9230769230769231\n"
          ]
        }
      ]
    },
    {
      "cell_type": "markdown",
      "metadata": {
        "id": "0JJewEh3EJf7"
      },
      "source": [
        "# Ensemble Trees\n",
        "\n",
        "Ensemble Methods\n",
        "\n",
        "Ensemble methods combine predictions of other learning algorithms, to improve the generalization.\n",
        "\n",
        "Ensemble methods are two types:\n",
        "\n",
        "Averaging Methods: They build several base estimators independently and finally average their predictions.\n",
        "  E.g.: Bagging Methods, Forests of randomised trees\n",
        "\n",
        "Boosting Methods: They build base estimators sequentially and try to reduce the bias of the combined estimator.\n",
        "  E.g.: Adaboost, Gradient Tree Boosting"
      ]
    },
    {
      "cell_type": "markdown",
      "metadata": {
        "id": "c3-MzKf6EcMD"
      },
      "source": [
        "##Bagging Methods\n",
        "\n",
        "Bagging Methods draw random subsets of the original dataset, build an estimator and aggregate individual results to form a final one.\n",
        "\n",
        "BaggingClassifier and BaggingRegressor are the utilities from sklearn.ensemble to deal with Bagging.\n",
        "\n",
        "sklearn.ensemble offers two types of algorithms based on randomized trees: Random Forest and Extra randomness algorithms.\n",
        "\n",
        "Random Forests\n",
        "\n",
        "RandomForestClassifier and RandomForestRegressor classes are used to deal with random forests. In random forests, each estimator is built from a sample drawn with replacement from the training set.\n",
        "\n",
        "Randomized Trees\n",
        "\n",
        "ExtraTreesClassifier and ExtraTreesRegressor classes are used to deal with extremely randomized forests. In extremely randomized forests, more randomness is introduced, which further reduces the variance of the model."
      ]
    },
    {
      "cell_type": "code",
      "metadata": {
        "colab": {
          "base_uri": "https://localhost:8080/"
        },
        "id": "0xwFKYvEGfUD",
        "outputId": "ecdee8ba-7b20-4665-dce9-90108bbfa0a5"
      },
      "source": [
        "from sklearn.ensemble import RandomForestClassifier\n",
        "\n",
        "rf_classifier = RandomForestClassifier()\n",
        "\n",
        "rf_classifier = rf_classifier.fit(X_train, Y_train) \n",
        "\n",
        "print('Accuracy of Train Data :', rf_classifier.score(X_train,Y_train))\n",
        "\n",
        "print('Accuracy of Test Data :', rf_classifier.score(X_test,Y_test))"
      ],
      "execution_count": 19,
      "outputs": [
        {
          "output_type": "stream",
          "name": "stdout",
          "text": [
            "Accuracy of Train Data : 1.0\n",
            "Accuracy of Test Data : 0.958041958041958\n"
          ]
        }
      ]
    },
    {
      "cell_type": "markdown",
      "metadata": {
        "id": "VVBvscQ7GPPD"
      },
      "source": [
        "##Boosting Methods\n",
        "\n",
        "Boosting Methods combine several weak models to create a improvised ensemble.\n",
        "\n",
        "sklearn.ensemble also provides the following boosting algorithms:\n",
        "\n",
        "AdaBoostClassifier & \n",
        "GradientBoostingClassifier"
      ]
    },
    {
      "cell_type": "code",
      "metadata": {
        "id": "wbcumEi3HVlZ"
      },
      "source": [
        ""
      ],
      "execution_count": null,
      "outputs": []
    },
    {
      "cell_type": "markdown",
      "metadata": {
        "id": "7Db_xB7yG-wc"
      },
      "source": [
        "# Support Vector Machines\n",
        "\n",
        "Support Vector Machines (SVMs) separates data points based on decision planes, which separates objects belonging to different classes in a higher dimensional space.\n",
        "\n",
        "SVM algorithm uses the best suitable kernel, which is capable of separating data points into two or more classes.\n",
        "\n",
        "Commonly used kernels are:\n",
        "\n",
        "linear\n",
        "\n",
        "polynomial\n",
        "\n",
        "rbf\n",
        "\n",
        "sigmoid\n",
        "\n",
        "scikit-learn provides the following three utilities for performing Support Vector Classification.\n",
        "\n",
        "SVC,\n",
        "NuSVC: Same as SVC but uses a parameter to control the number of support vectors.\n",
        "LinearSVC: Similar to SVC with parameter kernel taking linear value."
      ]
    },
    {
      "cell_type": "markdown",
      "metadata": {
        "id": "6tDIwurkH0Iv"
      },
      "source": [
        "Advantages of SVMs\n",
        "\n",
        "SVM can distinguish the classes in a higher dimensional space.\n",
        "\n",
        "SVM algorithms are memory efficient.\n",
        "\n",
        "SVMs are versatile, and a different kernel can be used by a decision function.\n",
        "\n",
        "Disadvantages of SVMs\n",
        "\n",
        "SVMs do not perform well on high dimensional data with many samples.\n",
        "\n",
        "SVMs work better only with Preprocessed data.\n",
        "\n",
        "They are harder to visualize."
      ]
    },
    {
      "cell_type": "code",
      "metadata": {
        "colab": {
          "base_uri": "https://localhost:8080/"
        },
        "id": "p8nXB791INfq",
        "outputId": "ba607b64-0bad-4512-fde5-6ce85d24a354"
      },
      "source": [
        "from sklearn.svm import SVC\n",
        "\n",
        "svm_classifier = SVC()\n",
        "\n",
        "svm_classifier = svm_classifier.fit(X_train, Y_train) \n",
        "\n",
        "print('Accuracy of Train Data :', svm_classifier.score(X_train,Y_train))\n",
        "\n",
        "print('Accuracy of Test Data :', svm_classifier.score(X_test,Y_test))"
      ],
      "execution_count": 20,
      "outputs": [
        {
          "output_type": "stream",
          "name": "stdout",
          "text": [
            "Accuracy of Train Data : 0.9178403755868545\n",
            "Accuracy of Test Data : 0.9230769230769231\n"
          ]
        }
      ]
    },
    {
      "cell_type": "code",
      "metadata": {
        "colab": {
          "base_uri": "https://localhost:8080/"
        },
        "id": "T3MGS7pEIa_i",
        "outputId": "d50c0e9b-7ebb-4b3d-aad3-5c5ef4f83c02"
      },
      "source": [
        "import sklearn.preprocessing as preprocessing\n",
        "\n",
        "standardizer = preprocessing.StandardScaler()\n",
        "standardizer = standardizer.fit(cancer.data)\n",
        "cancer_standardized = standardizer.transform(cancer.data)\n",
        "\n",
        "X_train, X_test, Y_train, Y_test = train_test_split(cancer_standardized, cancer.target,\n",
        "           stratify=cancer.target, random_state=42)\n",
        "svm_classifier = SVC()\n",
        "\n",
        "svm_classifier = svm_classifier.fit(X_train, Y_train)\n",
        "print('Accuracy of Train Data :', svm_classifier.score(X_train,Y_train))\n",
        "\n",
        "print('Accuracy of Test Data :', svm_classifier.score(X_test,Y_test))"
      ],
      "execution_count": 22,
      "outputs": [
        {
          "output_type": "stream",
          "name": "stdout",
          "text": [
            "Accuracy of Train Data : 0.9788732394366197\n",
            "Accuracy of Test Data : 0.9790209790209791\n"
          ]
        }
      ]
    },
    {
      "cell_type": "code",
      "metadata": {
        "colab": {
          "base_uri": "https://localhost:8080/"
        },
        "id": "VHLAUMULJbss",
        "outputId": "151e68e7-0c68-44bd-fc59-585ea2707103"
      },
      "source": [
        "from sklearn import metrics\n",
        "\n",
        "Y_pred = svm_classifier.predict(X_test)\n",
        "\n",
        "print('Classification report : \\n',metrics.classification_report(Y_test, Y_pred))"
      ],
      "execution_count": 23,
      "outputs": [
        {
          "output_type": "stream",
          "name": "stdout",
          "text": [
            "Classification report : \n",
            "               precision    recall  f1-score   support\n",
            "\n",
            "           0       0.96      0.98      0.97        53\n",
            "           1       0.99      0.98      0.98        90\n",
            "\n",
            "    accuracy                           0.98       143\n",
            "   macro avg       0.98      0.98      0.98       143\n",
            "weighted avg       0.98      0.98      0.98       143\n",
            "\n"
          ]
        }
      ]
    }
  ]
}