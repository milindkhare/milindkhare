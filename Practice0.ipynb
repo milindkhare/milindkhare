{
  "nbformat": 4,
  "nbformat_minor": 0,
  "metadata": {
    "colab": {
      "name": "Untitled0.ipynb",
      "provenance": [],
      "collapsed_sections": [],
      "toc_visible": true,
      "authorship_tag": "ABX9TyMFzfWUictsOgIJudvmxI8O",
      "include_colab_link": true
    },
    "kernelspec": {
      "name": "python3",
      "display_name": "Python 3"
    },
    "language_info": {
      "name": "python"
    }
  },
  "cells": [
    {
      "cell_type": "markdown",
      "metadata": {
        "id": "view-in-github",
        "colab_type": "text"
      },
      "source": [
        "<a href=\"https://colab.research.google.com/github/milindkhare/milindkhare/blob/Pypractice/Practice0.ipynb\" target=\"_parent\"><img src=\"https://colab.research.google.com/assets/colab-badge.svg\" alt=\"Open In Colab\"/></a>"
      ]
    },
    {
      "cell_type": "markdown",
      "metadata": {
        "id": "P3TG77q6g80b"
      },
      "source": [
        "# Error Handling in Py"
      ]
    },
    {
      "cell_type": "code",
      "metadata": {
        "colab": {
          "base_uri": "https://localhost:8080/"
        },
        "id": "TTWfkdp_dab9",
        "outputId": "213e2e33-c060-4885-d94a-9ea88289f1f7"
      },
      "source": [
        "## Error handling\n",
        "for i in range(2):\n",
        "  try:\n",
        "    print(\"1\")\n",
        "    print(2)\n",
        "    print(hey)\n",
        "  #except:\n",
        "  except Exception as e:\n",
        "    print(\"Dude:\", e)\n",
        "\n",
        "print('yo man')"
      ],
      "execution_count": null,
      "outputs": [
        {
          "output_type": "stream",
          "name": "stdout",
          "text": [
            "1\n",
            "2\n",
            "Dude: name 'hey' is not defined\n",
            "1\n",
            "2\n",
            "Dude: name 'hey' is not defined\n",
            "yo man\n"
          ]
        }
      ]
    },
    {
      "cell_type": "markdown",
      "metadata": {
        "id": "OfUShFp0kxQ1"
      },
      "source": [
        "# Web scrapping in Python"
      ]
    }
  ]
}