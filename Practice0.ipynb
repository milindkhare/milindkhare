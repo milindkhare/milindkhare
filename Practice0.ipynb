{
  "nbformat": 4,
  "nbformat_minor": 0,
  "metadata": {
    "colab": {
      "name": "Untitled0.ipynb",
      "provenance": [],
      "collapsed_sections": [],
      "authorship_tag": "ABX9TyMdSXKlD5mEUsLK+dz1rwKa",
      "include_colab_link": true
    },
    "kernelspec": {
      "name": "python3",
      "display_name": "Python 3"
    },
    "language_info": {
      "name": "python"
    }
  },
  "cells": [
    {
      "cell_type": "markdown",
      "metadata": {
        "id": "view-in-github",
        "colab_type": "text"
      },
      "source": [
        "<a href=\"https://colab.research.google.com/github/milindkhare/milindkhare/blob/Pypractice/Practice0.ipynb\" target=\"_parent\"><img src=\"https://colab.research.google.com/assets/colab-badge.svg\" alt=\"Open In Colab\"/></a>"
      ]
    },
    {
      "cell_type": "markdown",
      "metadata": {
        "id": "P3TG77q6g80b"
      },
      "source": [
        "# Error Handling in Py"
      ]
    },
    {
      "cell_type": "code",
      "metadata": {
        "colab": {
          "base_uri": "https://localhost:8080/"
        },
        "id": "TTWfkdp_dab9",
        "outputId": "213e2e33-c060-4885-d94a-9ea88289f1f7"
      },
      "source": [
        "## Error handling\n",
        "for i in range(2):\n",
        "  try:\n",
        "    print(\"1\")\n",
        "    print(2)\n",
        "    print(hey)\n",
        "  #except:\n",
        "  except Exception as e:\n",
        "    print(\"Dude:\", e)\n",
        "\n",
        "print('yo man')"
      ],
      "execution_count": null,
      "outputs": [
        {
          "output_type": "stream",
          "name": "stdout",
          "text": [
            "1\n",
            "2\n",
            "Dude: name 'hey' is not defined\n",
            "1\n",
            "2\n",
            "Dude: name 'hey' is not defined\n",
            "yo man\n"
          ]
        }
      ]
    },
    {
      "cell_type": "markdown",
      "metadata": {
        "id": "OfUShFp0kxQ1"
      },
      "source": [
        "# Web scrapping in Python"
      ]
    },
    {
      "cell_type": "markdown",
      "metadata": {
        "id": "mVKqO6ZAJvKV"
      },
      "source": [
        "Using Requests and Beautiful Soup for mining Apple prev close share price"
      ]
    },
    {
      "cell_type": "code",
      "metadata": {
        "colab": {
          "base_uri": "https://localhost:8080/"
        },
        "id": "ir87EJnQPDt8",
        "outputId": "0782118f-fd6c-4a18-a134-97504383a0a6"
      },
      "source": [
        "import requests\n",
        "\n",
        "url = \"https://finance.yahoo.com/quote/AAPL?p=AAPL\"\n",
        "\n",
        "response = requests.get(url)\n",
        "print(response)\n",
        "\n",
        "  text = response.text\n",
        "\n",
        "  #This is obtained by inspect html of url\n",
        "  prop = \"Previous Close\"\n",
        "\n",
        "# Find index where prop begins\n",
        "prop_ind = text.index(prop) \n",
        "\n",
        "#split till first span and then take out value of prev close\n",
        "#this part is done after looking manually at isnpect html of the page\n",
        "reduced_text = text[prop_ind:].split(\"</span>\")[1]\n",
        "prop_value = reduced_text.split(\">\")[-1]\n",
        "print(prop_value)"
      ],
      "execution_count": 15,
      "outputs": [
        {
          "output_type": "stream",
          "name": "stdout",
          "text": [
            "<Response [200]>\n",
            "148.12\n"
          ]
        }
      ]
    },
    {
      "cell_type": "code",
      "metadata": {
        "colab": {
          "base_uri": "https://localhost:8080/"
        },
        "id": "Lj8zsX7jQQ0u",
        "outputId": "0711c88a-4f6c-4a0f-c72b-9d18cca2322d"
      },
      "source": [
        "import requests\n",
        "from bs4 import BeautifulSoup\n",
        "\n",
        "url = \"https://finance.yahoo.com/quote/AAPL?p=AAPL\"\n",
        "\n",
        "response = requests.get(url)\n",
        "text = response.text\n",
        "\n",
        "soup = BeautifulSoup(text, features='html.parser')\n",
        "trs = soup.find_all(\"tr\") #This is obtained by inspect html of url\n",
        "\n",
        "print(trs[0].contents[0].text)\n",
        "print(trs[0].contents[1].text)\n",
        "\n",
        "# Retrieve all content for 1 stock\n",
        "\n",
        "#names = []\n",
        "#values = []\n",
        "nameval = {} # Dictionary of key and value pair (Names can directly used as index for value)\n",
        "\n",
        "for i in range(len(trs)):\n",
        "  for j in range(len(trs[i].contents)):\n",
        "    if j == 0: #first is name\n",
        "      try:\n",
        "        name = trs[i].contents[j].text\n",
        "        #names.append(name)\n",
        "      except:\n",
        "        continue #move on to next block\n",
        "    if j == 1: #second is value\n",
        "      try:\n",
        "        value = trs[i].contents[j].text\n",
        "        #values.append(value)\n",
        "      except:\n",
        "        continue #move on to next block\n",
        "  #add it in dict\n",
        "  nameval[name] = value\n",
        "  if name == '1y Target Est': #final name in the table\n",
        "    break\n",
        "\n",
        "print(nameval)\n",
        "#print(names) print(values)\n",
        "#names() and values can be used to store vector data seperately if needed"
      ],
      "execution_count": 22,
      "outputs": [
        {
          "output_type": "stream",
          "name": "stdout",
          "text": [
            "Previous Close\n",
            "148.12\n",
            "{'Previous Close': '148.12', 'Open': '148.56', 'Bid': '0.00 x 900', 'Ask': '0.00 x 1100', \"Day's Range\": '146.37 - 149.44', '52 Week Range': '103.10 - 157.26', 'Volume': '83,281,315', 'Avg. Volume': '79,376,682', 'Market Cap': '2.463T', 'Beta (5Y Monthly)': '1.20', 'PE Ratio (TTM)': '29.18', 'EPS (TTM)': '5.11', 'Earnings Date': 'Oct 27, 2021 - Nov 01, 2021', 'Forward Dividend & Yield': '0.88 (0.59%)', 'Ex-Dividend Date': 'Aug 06, 2021', '1y Target Est': '167.27'}\n"
          ]
        }
      ]
    },
    {
      "cell_type": "code",
      "metadata": {
        "id": "hZEtiBv9KG1T"
      },
      "source": [
        ""
      ],
      "execution_count": null,
      "outputs": []
    }
  ]
}