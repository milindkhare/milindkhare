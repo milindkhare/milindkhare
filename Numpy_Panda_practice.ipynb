{
  "nbformat": 4,
  "nbformat_minor": 0,
  "metadata": {
    "colab": {
      "name": "Numpy Panda practice.ipynb",
      "provenance": [],
      "authorship_tag": "ABX9TyPBfOJKFqQysuHkoA0vkNeJ",
      "include_colab_link": true
    },
    "kernelspec": {
      "name": "python3",
      "display_name": "Python 3"
    },
    "language_info": {
      "name": "python"
    }
  },
  "cells": [
    {
      "cell_type": "markdown",
      "metadata": {
        "id": "view-in-github",
        "colab_type": "text"
      },
      "source": [
        "<a href=\"https://colab.research.google.com/github/milindkhare/milindkhare/blob/Pypractice/Numpy_Panda_practice.ipynb\" target=\"_parent\"><img src=\"https://colab.research.google.com/assets/colab-badge.svg\" alt=\"Open In Colab\"/></a>"
      ]
    },
    {
      "cell_type": "markdown",
      "metadata": {
        "id": "FKRqBj1ZAZRm"
      },
      "source": [
        "# **Python NP and pandas practice**"
      ]
    },
    {
      "cell_type": "code",
      "metadata": {
        "colab": {
          "base_uri": "https://localhost:8080/"
        },
        "id": "rEQyxAYMAjf-",
        "outputId": "fbdc92c5-9fe5-4f9f-daf2-9995bd273b03"
      },
      "source": [
        "import numpy as np\n",
        "import pandas as pd\n",
        "vals = np.array([1, np.nan, 3,4])\n",
        "vals.sum()"
      ],
      "execution_count": 1,
      "outputs": [
        {
          "output_type": "execute_result",
          "data": {
            "text/plain": [
              "nan"
            ]
          },
          "metadata": {},
          "execution_count": 1
        }
      ]
    },
    {
      "cell_type": "code",
      "metadata": {
        "colab": {
          "base_uri": "https://localhost:8080/"
        },
        "id": "LH9CYdMy6Evl",
        "outputId": "2fa4aebf-e0d3-45ce-92a3-7f8715bcc0fd"
      },
      "source": [
        "a = ['a', 'b', 'c']\n",
        "b = ['y', 'z']\n",
        "a.extend(b)\n",
        "print(a)"
      ],
      "execution_count": 2,
      "outputs": [
        {
          "output_type": "stream",
          "name": "stdout",
          "text": [
            "['a', 'b', 'c', 'y', 'z']\n"
          ]
        }
      ]
    },
    {
      "cell_type": "code",
      "metadata": {
        "colab": {
          "base_uri": "https://localhost:8080/",
          "height": 235
        },
        "id": "XwkOpt0iApmb",
        "outputId": "4621fab4-eaa4-49b6-9a33-665012218eb3"
      },
      "source": [
        "ld = pd.Series(['Donald Trump', 'Narendra Modi', 'b j', 'A M', 'V P', 'Xi Jinping'])\n",
        "nm = ld.str.extract('([A-Za-z]+)')\n",
        "nm[:1]\n",
        "nm"
      ],
      "execution_count": 3,
      "outputs": [
        {
          "output_type": "execute_result",
          "data": {
            "text/html": [
              "<div>\n",
              "<style scoped>\n",
              "    .dataframe tbody tr th:only-of-type {\n",
              "        vertical-align: middle;\n",
              "    }\n",
              "\n",
              "    .dataframe tbody tr th {\n",
              "        vertical-align: top;\n",
              "    }\n",
              "\n",
              "    .dataframe thead th {\n",
              "        text-align: right;\n",
              "    }\n",
              "</style>\n",
              "<table border=\"1\" class=\"dataframe\">\n",
              "  <thead>\n",
              "    <tr style=\"text-align: right;\">\n",
              "      <th></th>\n",
              "      <th>0</th>\n",
              "    </tr>\n",
              "  </thead>\n",
              "  <tbody>\n",
              "    <tr>\n",
              "      <th>0</th>\n",
              "      <td>Donald</td>\n",
              "    </tr>\n",
              "    <tr>\n",
              "      <th>1</th>\n",
              "      <td>Narendra</td>\n",
              "    </tr>\n",
              "    <tr>\n",
              "      <th>2</th>\n",
              "      <td>b</td>\n",
              "    </tr>\n",
              "    <tr>\n",
              "      <th>3</th>\n",
              "      <td>A</td>\n",
              "    </tr>\n",
              "    <tr>\n",
              "      <th>4</th>\n",
              "      <td>V</td>\n",
              "    </tr>\n",
              "    <tr>\n",
              "      <th>5</th>\n",
              "      <td>Xi</td>\n",
              "    </tr>\n",
              "  </tbody>\n",
              "</table>\n",
              "</div>"
            ],
            "text/plain": [
              "          0\n",
              "0    Donald\n",
              "1  Narendra\n",
              "2         b\n",
              "3         A\n",
              "4         V\n",
              "5        Xi"
            ]
          },
          "metadata": {},
          "execution_count": 3
        }
      ]
    },
    {
      "cell_type": "code",
      "metadata": {
        "colab": {
          "base_uri": "https://localhost:8080/"
        },
        "id": "8eB3KGV0AqXw",
        "outputId": "b6e34c0e-ec09-4e9e-bb72-c3552a74b0e7"
      },
      "source": [
        "primes = [2,3,5,7,11,13,17,19,23,29]\n",
        "sq_pr = [x*x for x in primes if x%10 == 3]\n",
        "print(sq_pr)"
      ],
      "execution_count": 4,
      "outputs": [
        {
          "output_type": "stream",
          "name": "stdout",
          "text": [
            "[9, 169, 529]\n"
          ]
        }
      ]
    },
    {
      "cell_type": "code",
      "metadata": {
        "colab": {
          "base_uri": "https://localhost:8080/"
        },
        "id": "I8jQbeBpAtX8",
        "outputId": "b76e1f06-d3b9-45e6-ff55-3a69db9ee0de"
      },
      "source": [
        "data = ['gUIDO']\n",
        "data = [s.capitalize() for s in data]\n",
        "data"
      ],
      "execution_count": 5,
      "outputs": [
        {
          "output_type": "execute_result",
          "data": {
            "text/plain": [
              "['Guido']"
            ]
          },
          "metadata": {},
          "execution_count": 5
        }
      ]
    },
    {
      "cell_type": "code",
      "metadata": {
        "id": "vdk4RQ-4Ax4X"
      },
      "source": [
        "# from sklearn.preprocessing import imputer\n",
        "# imp = Imputer(missing_values=0, startegy = 'mean', axis=0)\n",
        "# imp.fit_transform(X_train)"
      ],
      "execution_count": 6,
      "outputs": []
    },
    {
      "cell_type": "code",
      "metadata": {
        "colab": {
          "base_uri": "https://localhost:8080/"
        },
        "id": "dbk4mEQVA0FG",
        "outputId": "feb39ef5-a8f7-4bf6-bead-9bda1c5d788b"
      },
      "source": [
        "pd.date_range('2020-01-01', '2021-12-01', freq='BM')"
      ],
      "execution_count": 7,
      "outputs": [
        {
          "output_type": "execute_result",
          "data": {
            "text/plain": [
              "DatetimeIndex(['2020-01-31', '2020-02-28', '2020-03-31', '2020-04-30',\n",
              "               '2020-05-29', '2020-06-30', '2020-07-31', '2020-08-31',\n",
              "               '2020-09-30', '2020-10-30', '2020-11-30', '2020-12-31',\n",
              "               '2021-01-29', '2021-02-26', '2021-03-31', '2021-04-30',\n",
              "               '2021-05-31', '2021-06-30', '2021-07-30', '2021-08-31',\n",
              "               '2021-09-30', '2021-10-29', '2021-11-30'],\n",
              "              dtype='datetime64[ns]', freq='BM')"
            ]
          },
          "metadata": {},
          "execution_count": 7
        }
      ]
    },
    {
      "cell_type": "code",
      "metadata": {
        "colab": {
          "base_uri": "https://localhost:8080/"
        },
        "id": "DHkL7wBXA2lK",
        "outputId": "9f5e08f9-5a77-4b6c-bf5b-9ecaeff0e0aa"
      },
      "source": [
        "a =np.arange(1,10).reshape(3,3)\n",
        "a.sum(axis=0)"
      ],
      "execution_count": 8,
      "outputs": [
        {
          "output_type": "execute_result",
          "data": {
            "text/plain": [
              "array([12, 15, 18])"
            ]
          },
          "metadata": {},
          "execution_count": 8
        }
      ]
    },
    {
      "cell_type": "code",
      "metadata": {
        "colab": {
          "base_uri": "https://localhost:8080/",
          "height": 35
        },
        "id": "Xoi2kVAABBRU",
        "outputId": "4f4b5c47-bef0-4979-b428-fe3db72e3d59"
      },
      "source": [
        "date = pd.to_datetime(\"4th of July,2019\")\n",
        "date.strftime('%A')\n"
      ],
      "execution_count": 9,
      "outputs": [
        {
          "output_type": "execute_result",
          "data": {
            "application/vnd.google.colaboratory.intrinsic+json": {
              "type": "string"
            },
            "text/plain": [
              "'Thursday'"
            ]
          },
          "metadata": {},
          "execution_count": 9
        }
      ]
    },
    {
      "cell_type": "code",
      "metadata": {
        "colab": {
          "base_uri": "https://localhost:8080/"
        },
        "id": "MQQzBshoBE7A",
        "outputId": "6b4720f5-6daf-4849-8bae-01359d532afd"
      },
      "source": [
        "A= pd.Series([2,4,6], index = [0,1,2])\n",
        "B= pd.Series([1,3,5], index = [1,2,3])\n",
        "C= A+B\n",
        "print(C)"
      ],
      "execution_count": 10,
      "outputs": [
        {
          "output_type": "stream",
          "name": "stdout",
          "text": [
            "0    NaN\n",
            "1    5.0\n",
            "2    9.0\n",
            "3    NaN\n",
            "dtype: float64\n"
          ]
        }
      ]
    },
    {
      "cell_type": "code",
      "metadata": {
        "colab": {
          "base_uri": "https://localhost:8080/"
        },
        "id": "NlOMAg5BBHN1",
        "outputId": "3783402b-1b46-41d1-d0c2-366a74086cb0"
      },
      "source": [
        "choices = pd.Series([1,2,3,4,5,6])\n",
        "draws = choices.sample(n=10, replace=True)\n",
        "draws.head"
      ],
      "execution_count": 11,
      "outputs": [
        {
          "output_type": "execute_result",
          "data": {
            "text/plain": [
              "<bound method NDFrame.head of 0    1\n",
              "4    5\n",
              "5    6\n",
              "2    3\n",
              "2    3\n",
              "3    4\n",
              "4    5\n",
              "2    3\n",
              "0    1\n",
              "2    3\n",
              "dtype: int64>"
            ]
          },
          "metadata": {},
          "execution_count": 11
        }
      ]
    }
  ]
}